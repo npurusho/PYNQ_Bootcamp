{
 "cells": [
  {
   "cell_type": "markdown",
   "metadata": {},
   "source": [
    "# Intermediate Python"
   ]
  },
  {
   "cell_type": "markdown",
   "metadata": {},
   "source": [
    "# Object Types"
   ]
  },
  {
   "cell_type": "markdown",
   "metadata": {},
   "source": [
    "### Int and Float\n",
    "- float\n",
    "    examples: 1.0, -5.2, 8.321\n",
    "- int\n",
    "    examples: -978467, 1098765, 8\n",
    " "
   ]
  },
  {
   "cell_type": "markdown",
   "metadata": {},
   "source": [
    "### String\n",
    "- We call any number, letter, word, or words with spaces and or special characters a string in python. You can use a single or double quotes on each end of the the characters to tell python that it is a string, but you must use both single or both double on the same string, you cannot mix and match. \n",
    "- examples: \"A\", 'dog', \"the cat jumped over the moon!\", \"501\""
   ]
  },
  {
   "cell_type": "markdown",
   "metadata": {},
   "source": [
    "### List\n",
    "- a list is a named set of ordered objects enclosed in brackets\n",
    "- the list can contain all of the same object types or different types\n",
    "- examples:\n",
    "       [0, 5, 1, 5, -30, 200]\n",
    "       [\"a\", 'b', 123]"
   ]
  },
  {
   "cell_type": "markdown",
   "metadata": {},
   "source": [
    "How would you access the second element of the following list?\n",
    "\n",
    "What about the second and third elements?"
   ]
  },
  {
   "cell_type": "code",
   "execution_count": null,
   "metadata": {},
   "outputs": [],
   "source": [
    "a = [12, 23, 45]"
   ]
  },
  {
   "cell_type": "code",
   "execution_count": null,
   "metadata": {},
   "outputs": [],
   "source": []
  },
  {
   "cell_type": "markdown",
   "metadata": {},
   "source": [
    "### Dictionary\n",
    "- an unordered set of key value pairs enclosed in curly brackets\n",
    "- key: must be unique to the dictionary, used to access the value\n",
    "- the key and value can be different types, but the key should only be an int, float, or string\n",
    "- example:\n",
    "        {0: \"a\", 1:\"b\", 2:\"c\"}\n",
    "        {\"the\": [0, 1, 2], \"cat\": \"Dog\"}"
   ]
  },
  {
   "cell_type": "markdown",
   "metadata": {},
   "source": [
    "How would you access the value \"a\" in the following dictionary?"
   ]
  },
  {
   "cell_type": "code",
   "execution_count": null,
   "metadata": {},
   "outputs": [],
   "source": [
    "# create dictionary\n",
    "d = {2: \"a\", 3:\"b\", 7:\"c\", 12:\"apple\"}\n",
    "\n",
    "# add an element\n",
    "d[4] = \"sun\"\n",
    "\n",
    "# two ways to get the value from the key\n",
    "print(d.get(2))\n",
    "print(d[2])\n"
   ]
  },
  {
   "cell_type": "code",
   "execution_count": null,
   "metadata": {},
   "outputs": [],
   "source": [
    "# if you want only the keys\n",
    "print(d.keys())"
   ]
  },
  {
   "cell_type": "code",
   "execution_count": null,
   "metadata": {},
   "outputs": [],
   "source": [
    "# to access all the items\n",
    "print(d.items())"
   ]
  },
  {
   "cell_type": "markdown",
   "metadata": {},
   "source": [
    "How would you access the third key-value pair?"
   ]
  },
  {
   "cell_type": "code",
   "execution_count": null,
   "metadata": {},
   "outputs": [],
   "source": []
  },
  {
   "cell_type": "markdown",
   "metadata": {},
   "source": [
    "## Exercise 1:\n",
    "\n",
    "What types are the following? \n",
    "    - 10\n",
    "    - \"apple\"\n",
    "    - {0: \"a\", 1:\"b\", 2:\"c\", 1:\"L\"}\n",
    "    - -1.6\n",
    "    - \"bat'\n",
    "    - 'p-y-t-h-o-n'\n",
    "    - [1: \"a\", 2:\"d\", 3:'d']\n",
    "  "
   ]
  },
  {
   "cell_type": "markdown",
   "metadata": {},
   "source": [
    "## Exercise 2: Declare an int, a float, a string, a list, and a dictionary and double check the type."
   ]
  },
  {
   "cell_type": "markdown",
   "metadata": {},
   "source": [
    "Hint: You can use the `type()` method"
   ]
  },
  {
   "cell_type": "code",
   "execution_count": null,
   "metadata": {},
   "outputs": [],
   "source": []
  },
  {
   "cell_type": "markdown",
   "metadata": {},
   "source": [
    "## Exercise 3: From the dictionary print the third value and second key-value pair."
   ]
  },
  {
   "cell_type": "code",
   "execution_count": null,
   "metadata": {},
   "outputs": [],
   "source": [
    "# print the third value\n"
   ]
  },
  {
   "cell_type": "code",
   "execution_count": null,
   "metadata": {},
   "outputs": [],
   "source": [
    "# print the second key-value pair\n"
   ]
  },
  {
   "cell_type": "markdown",
   "metadata": {},
   "source": [
    "# If Statements\n",
    "Python supports the usual logical conditions from mathematics:\n",
    "\n",
    "    - Equals: a == b\n",
    "    - Not Equals: a != b\n",
    "    - Less than: a < b\n",
    "    - Less than or equal to: a <= b\n",
    "    - Greater than: a > b\n",
    "    - Greater than or equal to: a >= b\n",
    "    - These conditions can be used in several ways, most commonly in \"if statements\" and loops.\n",
    "\n",
    "An \"if statement\" is written by using the if keyword. \n",
    "Note: Semicolons and indentations(tabs) matter!\n",
    "Example:"
   ]
  },
  {
   "cell_type": "code",
   "execution_count": null,
   "metadata": {},
   "outputs": [],
   "source": [
    "a = 1\n",
    "b = 2\n",
    "if a == b:\n",
    "    print(\"A equals B\")\n",
    "else:\n",
    "    print(\"A does not equal B\")"
   ]
  },
  {
   "cell_type": "code",
   "execution_count": null,
   "metadata": {},
   "outputs": [],
   "source": [
    "a = 12\n",
    "b = 18\n",
    "c = \"cat\"\n",
    "d = \"dog\"\n",
    "if a > b and c > d:\n",
    "    print(\"Woo!\")\n",
    "elif a == b or c == d:\n",
    "    print(\"Yay!\")\n",
    "elif d < a:\n",
    "    print(\"Dog is bigger\")\n",
    "else:\n",
    "    print(\":)\")"
   ]
  },
  {
   "cell_type": "markdown",
   "metadata": {},
   "source": [
    "## Whats the difference between the following 2 code chunks?"
   ]
  },
  {
   "cell_type": "code",
   "execution_count": null,
   "metadata": {},
   "outputs": [],
   "source": [
    "a = 1\n",
    "b = 1\n",
    "if a == b:\n",
    "    print(\"A equals B\")\n",
    "if a < b:\n",
    "    print(\"A is less than B\")\n",
    "else:\n",
    "    print(\"A does not equal B\")"
   ]
  },
  {
   "cell_type": "code",
   "execution_count": null,
   "metadata": {},
   "outputs": [],
   "source": [
    "a = 1\n",
    "b = 1\n",
    "if a == b:\n",
    "    print(\"A equals B\")\n",
    "elif a < b:\n",
    "    print(\"A is less than B\")\n",
    "else:\n",
    "    print(\"A does not equal B\")"
   ]
  },
  {
   "cell_type": "markdown",
   "metadata": {},
   "source": [
    "## Exercise 4: Assign a few different objects and write an if, elif, and else statement"
   ]
  },
  {
   "cell_type": "code",
   "execution_count": null,
   "metadata": {},
   "outputs": [],
   "source": []
  },
  {
   "cell_type": "markdown",
   "metadata": {},
   "source": [
    "# Loops\n",
    "There are two types of loops; while loops and for loops. In a for loop you tell the loop 'for' how long to do something. In a while loop, you tell the loop to do something 'while' a condition is true.\n",
    "\n",
    "3 parts of a while loop:\n",
    "1. Initialize\n",
    "2. Check Condition\n",
    "3. Update Condition"
   ]
  },
  {
   "cell_type": "code",
   "execution_count": null,
   "metadata": {},
   "outputs": [],
   "source": [
    "for i in range(3):\n",
    "    print(i)"
   ]
  },
  {
   "cell_type": "code",
   "execution_count": null,
   "metadata": {},
   "outputs": [],
   "source": [
    "for i in range(1, 10, 2):\n",
    "    print(i)"
   ]
  },
  {
   "cell_type": "code",
   "execution_count": null,
   "metadata": {},
   "outputs": [],
   "source": [
    "s = 'PYNQ'\n",
    "for letter in s:\n",
    "    print(letter)"
   ]
  },
  {
   "cell_type": "code",
   "execution_count": null,
   "metadata": {},
   "outputs": [],
   "source": [
    "l = [1, 17, 78, 9, \"apple\", \"moon\"]\n",
    "for my_cool_value in l:\n",
    "    # you can put anything in your for loop!\n",
    "    if my_cool_value == 17:\n",
    "        print(\"17!\")\n",
    "    print(my_cool_value)"
   ]
  },
  {
   "cell_type": "code",
   "execution_count": null,
   "metadata": {},
   "outputs": [],
   "source": [
    "# initialize\n",
    "i = 0\n",
    "# check condition\n",
    "while i < 5:\n",
    "    print(i)\n",
    "    # update condition\n",
    "    i = i + 1\n",
    "    # i += 1"
   ]
  },
  {
   "cell_type": "markdown",
   "metadata": {},
   "source": [
    "## Exercise 5: Write a nested for loop (i.e a for loop with a for loop inside of it)"
   ]
  },
  {
   "cell_type": "code",
   "execution_count": null,
   "metadata": {},
   "outputs": [],
   "source": []
  },
  {
   "cell_type": "markdown",
   "metadata": {},
   "source": [
    "## Exercise 6: Write a while loop using an AND condition and an OR condition without using the range function"
   ]
  },
  {
   "cell_type": "code",
   "execution_count": null,
   "metadata": {},
   "outputs": [],
   "source": []
  },
  {
   "cell_type": "markdown",
   "metadata": {},
   "source": [
    "# File IO"
   ]
  },
  {
   "cell_type": "markdown",
   "metadata": {},
   "source": [
    "Modes to Open files:\n",
    "\n",
    "- 'r':\tOpen a file for reading. (default)\n",
    "\n",
    "- 'w':\tOpen a file for writing. Creates a new file if it does not exist"
   ]
  },
  {
   "cell_type": "markdown",
   "metadata": {},
   "source": [
    "Lets write to a file:"
   ]
  },
  {
   "cell_type": "code",
   "execution_count": null,
   "metadata": {},
   "outputs": [],
   "source": [
    "# open the file in write mode\n",
    "fp = open(text.txt, w)"
   ]
  },
  {
   "cell_type": "code",
   "execution_count": null,
   "metadata": {},
   "outputs": [],
   "source": [
    "# write to the file\n",
    "fp.write(\"My name is \\n\")\n",
    "fp.write(\"My favorite color is\\n\")\n",
    "fp.write(\"If i could have any pet it would be a \")\n",
    "fp.write(\"Would you rather live in the ocean or on the moon?\")\n",
    "fp.write(\"I would rather...\")\n",
    "\n",
    "# YOUR TURN! Write something to the file"
   ]
  },
  {
   "cell_type": "code",
   "execution_count": null,
   "metadata": {},
   "outputs": [],
   "source": [
    "# always close our files\n",
    "fp.close()"
   ]
  },
  {
   "cell_type": "markdown",
   "metadata": {},
   "source": [
    "Now lets read from the file:"
   ]
  },
  {
   "cell_type": "code",
   "execution_count": null,
   "metadata": {},
   "outputs": [],
   "source": [
    "infile = open('text.txt', 'r')\n",
    "print(infile.read())\n",
    "infile.close()"
   ]
  },
  {
   "cell_type": "markdown",
   "metadata": {},
   "source": [
    "## Exercise 7: Create your own file, write to it, and read from it!"
   ]
  },
  {
   "cell_type": "code",
   "execution_count": null,
   "metadata": {},
   "outputs": [],
   "source": []
  },
  {
   "cell_type": "markdown",
   "metadata": {},
   "source": [
    "# Graphing"
   ]
  },
  {
   "cell_type": "code",
   "execution_count": null,
   "metadata": {},
   "outputs": [],
   "source": [
    "# Load the data\n",
    "!pip3 install sklearn\n",
    "from sklearn.datasets import load_iris\n",
    "\n",
    "iris = load_iris()\n",
    "\n",
    "# Load the graphing package\n",
    "from matplotlib import pyplot as plt\n",
    "\n",
    "# Plot the data\n",
    "plt.scatter(iris.data[:, 0], iris.data[:, 1])\n",
    "\n",
    "plt.xlabel(\"Length\")\n",
    "plt.ylabel(\"Width\")\n",
    "plt.title(\"Iris Flowers\")\n",
    "\n",
    "plt.show()"
   ]
  },
  {
   "cell_type": "markdown",
   "metadata": {},
   "source": [
    "## Exercise 8: Add a title, x label, and y label to the following graph"
   ]
  },
  {
   "cell_type": "code",
   "execution_count": null,
   "metadata": {},
   "outputs": [],
   "source": [
    "# plot data from range() and list\n",
    "plt.scatter(range(0,10), [1, 5, 2, 16, 30, 2, -4. -9, 1, 0])"
   ]
  },
  {
   "cell_type": "markdown",
   "metadata": {},
   "source": [
    "## Exercise 9: Make your own graph!"
   ]
  },
  {
   "cell_type": "code",
   "execution_count": null,
   "metadata": {},
   "outputs": [],
   "source": []
  },
  {
   "cell_type": "markdown",
   "metadata": {},
   "source": [
    "## Printing"
   ]
  },
  {
   "cell_type": "code",
   "execution_count": null,
   "metadata": {},
   "outputs": [],
   "source": [
    "value = .12893612783\n",
    "print(f'Cool {value:.2f}, dude')\n",
    "\n",
    "print(f'Cool {value:6.2f}, dude')"
   ]
  },
  {
   "cell_type": "markdown",
   "metadata": {},
   "source": [
    "- The brackets and characters within them are replaced with the objects passed into the format() method. A number in the brackets can be used to refer to the position of the object passed into the format() method.\n",
    "- If no numbers are placed inside the brackets, what happens?"
   ]
  },
  {
   "cell_type": "code",
   "execution_count": null,
   "metadata": {},
   "outputs": [],
   "source": [
    "# using format() method \n",
    "print('I love {} and \"{}!\"'.format('PYNQ', 'Python')) \n",
    "  \n",
    "# using format() method and refering  \n",
    "# a position of the object \n",
    "print('{0} and {1}'.format('PYNQ', 'Python')) \n",
    "  \n",
    "print('{1} and {0}'.format('PYNQ', 'Python')) "
   ]
  },
  {
   "cell_type": "markdown",
   "metadata": {},
   "source": [
    "## Exercise 9: Write a print statement to format your name, age, and the number of days in the year divided by your age to two decimal places."
   ]
  },
  {
   "cell_type": "code",
   "execution_count": null,
   "metadata": {},
   "outputs": [],
   "source": []
  },
  {
   "cell_type": "markdown",
   "metadata": {},
   "source": [
    "## Input\n",
    "- The functon input() can be used to take in input from the user, and can be stored in a variable to be used in your program."
   ]
  },
  {
   "cell_type": "code",
   "execution_count": null,
   "metadata": {},
   "outputs": [],
   "source": [
    "# This is a guess the number game.\n",
    "import random\n",
    "guessesTaken = 0\n",
    "print('Hello! What is your name?')\n",
    "\n",
    "myName = input()\n",
    "\n",
    "number = random.randint(1, 20)\n",
    "print('Well, ' + myName + ', I am thinking of a number between 1 and 20.')\n",
    "while guessesTaken < 6:\n",
    "    print('Take a guess.')\n",
    "    \n",
    "    guess = input()\n",
    "    \n",
    "    guess = int(guess)\n",
    "    guessesTaken = guessesTaken + 1\n",
    "    if guess < number:\n",
    "        print('Your guess is too low.') \n",
    "    elif guess > number:\n",
    "        print('Your guess is too high.')\n",
    "    else:\n",
    "        break\n",
    "if guess == number:\n",
    "    guessesTaken = str(guessesTaken)\n",
    "    print('Good job, ' + myName + '! You guessed my number in ' + guessesTaken + ' guesses!')\n",
    "if guess != number:\n",
    "        number = str(number)\n",
    "        print('Nope. The number I was thinking of was ' + number)"
   ]
  },
  {
   "cell_type": "markdown",
   "metadata": {},
   "source": [
    "## Find the Errors\n",
    "\n",
    "Try to find and fix all of the errors in the following code. You will know if you have done it correctly if you can play hangman with a neighbor!"
   ]
  },
  {
   "cell_type": "code",
   "execution_count": null,
   "metadata": {},
   "outputs": [],
   "source": [
    "import time\n",
    "\n",
    "\n",
    "word = \"syzygy\"\n",
    "input(\"What is your name? \")\n",
    "\n",
    "print(\"Hello, \" + name, \"Time to play hangman!\")\n",
    "print(\"\")\n",
    "time.sleep(1)\n",
    "\n",
    "print(\"Start guessing...)\n",
    "time.sleep(0.5)\n",
    "\n",
    "\n",
    "guesses = ''\n",
    "\n",
    "turns = 10\n",
    "\n",
    "while turns > 0:\n",
    "\n",
    "    failed = 0\n",
    "\n",
    "    for char in word:\n",
    "        if char in guesses:\n",
    "            print char\n",
    "        else:\n",
    "            print(\"_\")\n",
    "            failed + 1\n",
    "            \n",
    "    if failed = 0:\n",
    "        print(\"You won\")\n",
    "        break\n",
    "\n",
    "    print()\n",
    "\n",
    "    guess = input(\"guess a character:\"\n",
    "\n",
    "    guesses += guess\n",
    "\n",
    "    if guess not in word:\n",
    "        turns -= 1\n",
    " \n",
    "        print(\"Wrong\")\n",
    " \n",
    "        print(\"You have\",  turns, 'more guesses')\n",
    "        if turns == 0:\n",
    "            print(\"You Lose\")"
   ]
  }
 ],
 "metadata": {
  "kernelspec": {
   "display_name": "Python 3",
   "language": "python",
   "name": "python3"
  },
  "language_info": {
   "codemirror_mode": {
    "name": "ipython",
    "version": 3
   },
   "file_extension": ".py",
   "mimetype": "text/x-python",
   "name": "python",
   "nbconvert_exporter": "python",
   "pygments_lexer": "ipython3",
   "version": "3.6.5"
  }
 },
 "nbformat": 4,
 "nbformat_minor": 4
}
